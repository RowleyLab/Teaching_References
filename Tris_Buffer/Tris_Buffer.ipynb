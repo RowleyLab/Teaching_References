{
 "cells": [
  {
   "cell_type": "markdown",
   "id": "42ab27ad",
   "metadata": {},
   "source": [
    "Suppose you have two solutions of Tris buffer with pH=4.00 and pH=11.00, and the same formal concentration of 3F. If you wanted to make a new buffer with pH=9.00, you could combine them in a certain ratio to achieve the target pH and maintain the same formal concentration. Let's assume that there are no other acid/base active species in any of the solutions and the original solutions are not buffered at their current pH.\n",
    "\n",
    "First, let's solve this without any regard to the Tris at all. It will be as if we had a solution of HCl and NaOH. One approach to solving this is to use a BCA table. A BCA table records the moles of reactants before mixing, their change as a result of the reaction upon mixing, and the moles remaining after mixing. As long as any dilution due to the mixing is pre-calculated in the before row, we can also use molar concentrations directly, but it will be simpler here to deal with millimoles directly. For our target pH, the number of millimoles of NaOH in 100ml is $0.001 millimoles$\n",
    "\n",
    "The reaction is: $HCl+NaOH\\rightarrow H_2O + NaCl$ but we really only care about the reactants. The original concentrations are acid = $1\\times10^{-4}$ and base = $1\\times10^{-3}$. Let x = the ml of acid added, and let the total final volume be 100 ml. This makes the volume of base added = 100m -x. Also, since the target pH is closer to 11.00, we will assume that the acid forms the limiting reagent and base is added in excess\n",
    "\n",
    "$\\hspace{6em}HCl\\hspace{5.5em}NaOH$\n",
    "\n",
    "B $\\hspace{3em}1\\times10^{-4} * x \\hspace{4em}  1\\times10^{-3} * (100-x)$\n",
    "\n",
    "C $\\hspace{2.5em}-1\\times10^{-4} * x \\hspace{4em} -1\\times10^{-4} * x$\n",
    "\n",
    "A $\\hspace{5em}0 \\hspace{4em} 1\\times10^{-3} * (100-x) - 1\\times10^{-4} * x$   \n",
    "\n",
    "And we know that the final amount of NaOH millimoles = 0.001. At this point we have an equation:\n",
    "\n",
    "$1\\times10^{-3} * (100-x) - 1\\times10^{-4} * x = 0.001$\n",
    "\n",
    "Which can be solved to give x = 90. This means 90 ml of the pH=4.00 solution, and 10 ml of the pH=11.00 solution should be mixed to give 100 ml at pH=9.00"
   ]
  },
  {
   "cell_type": "markdown",
   "id": "61c12811",
   "metadata": {},
   "source": [
    "There are potentially some complicating factors, such as the acid/base activity of the Tris itself, which has a pKa=8.1. Fortunately the target pH is still within the buffer region for Tris, so we can ultimately use the Henderson-Hasselbach equation. Even better is that the Tris has such a high concentration, so it will govern the pH chemistry rather than being driven by the tiny amount of excess HCl/NaOH we dealt with above. Again, let x = the ml of acid added and let the total final volume be 100ml. The H-H equation is:\n",
    "$pH = pK_a+\\log\\left(\\dfrac{B}{A}\\right)$\n",
    "\n",
    "In our case, we get $9.00 = 8.1 + \\log\\left(\\dfrac{100-x}{x}\\right)$\n",
    "\n",
    "This solves to give $x=11.18ml$, so add 11.2 ml of the acid with 88.8 ml of the base. Note that this result is very different from what we found above, and would work for any concentration of Tris as long as they are the same in both solutions, and much larger than the $H^+/OH^-$ concentrations."
   ]
  },
  {
   "cell_type": "markdown",
   "id": "4e5c6f36",
   "metadata": {},
   "source": [
    "If the concentration of Tris were lower, then we would need to consider the reaction between Tris and excess HCl/NaOH. This would be done by making a second BCA table for that reaction using initial amounts of Tris and NaOH in terms of x. Finally we would need to solve the H-H equation with the new amounts of Tris from that BCA table. "
   ]
  },
  {
   "cell_type": "code",
   "execution_count": null,
   "id": "a4ec7074",
   "metadata": {},
   "outputs": [],
   "source": []
  }
 ],
 "metadata": {
  "kernelspec": {
   "display_name": "Python 3 (ipykernel)",
   "language": "python",
   "name": "python3"
  },
  "language_info": {
   "codemirror_mode": {
    "name": "ipython",
    "version": 3
   },
   "file_extension": ".py",
   "mimetype": "text/x-python",
   "name": "python",
   "nbconvert_exporter": "python",
   "pygments_lexer": "ipython3",
   "version": "3.10.6"
  }
 },
 "nbformat": 4,
 "nbformat_minor": 5
}
