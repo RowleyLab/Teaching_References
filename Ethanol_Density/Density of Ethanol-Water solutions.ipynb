{
 "cells": [
  {
   "cell_type": "markdown",
   "metadata": {},
   "source": [
    "$\\dfrac{m}{m}\\% = \\dfrac{m_{EtOH}}{m_{Solution}}$\n",
    "\n",
    "Only the above method is temperature-invariant!\n",
    "\n",
    "The two below methods are easier to use when making a solution in the lab with volumetric glassware (with m/v% being the simplest and most reliable)\n",
    "\n",
    "$\\dfrac{v}{v}\\% = \\dfrac{v_{EtOH}}{v_{Solution}}$\n",
    "\n",
    "$\\dfrac{m}{v}\\% = \\dfrac{m_{EtOH}}{v_{Solution}}$"
   ]
  },
  {
   "cell_type": "markdown",
   "metadata": {},
   "source": [
    "To get the mass of ethanol in a certain sample with a given m/v%, we would need to know the volume of the sample:\n",
    "\n",
    "$v_{sample}\\times\\dfrac{m}{v}\\%\\times\\dfrac{1}{100\\%}=m_{EtOH}$\n",
    "\n",
    "But, you are measuring sample mass, so we must find the volume first through the density:\n",
    "\n",
    "if $d=\\dfrac{m}{v}$ then $v=\\dfrac{m}{d}$\n",
    "\n",
    "And finally we get:\n",
    "$m_{EtOH}=\\dfrac{m}{d}\\times\\dfrac{m}{v}\\%\\times\\dfrac{1}{100\\%}$"
   ]
  },
  {
   "cell_type": "markdown",
   "metadata": {},
   "source": [
    "Another problem, however, is that the density tables are given in m/m%, so we need to convert your m/v% to m/m%. To find a correspondence between these different concentration units, we need to assume a temperature. Let's go with $25^\\circ C$\n",
    "\n",
    "We can convert m/m% to m/v% by assuming a "
   ]
  },
  {
   "cell_type": "code",
   "execution_count": null,
   "metadata": {},
   "outputs": [],
   "source": []
  }
 ],
 "metadata": {
  "kernelspec": {
   "display_name": "Python 3",
   "language": "python",
   "name": "python3"
  },
  "language_info": {
   "codemirror_mode": {
    "name": "ipython",
    "version": 3
   },
   "file_extension": ".py",
   "mimetype": "text/x-python",
   "name": "python",
   "nbconvert_exporter": "python",
   "pygments_lexer": "ipython3",
   "version": "3.8.3"
  }
 },
 "nbformat": 4,
 "nbformat_minor": 4
}
