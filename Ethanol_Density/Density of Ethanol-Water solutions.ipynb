{
 "cells": [
  {
   "cell_type": "markdown",
   "metadata": {},
   "source": [
    "There are three common ways to describe the density of ethanol/water solutions:\n",
    "\n",
    "$\\dfrac{m}{m}\\% = \\dfrac{m_{EtOH}}{m_{Solution}}$\n",
    "\n",
    "Only the above method is temperature-invariant!\n",
    "\n",
    "The two below methods are easier to use when making a solution in the lab with volumetric glassware (with m/v% being the simplest and most reliable)\n",
    "\n",
    "$\\dfrac{v}{v}\\% = \\dfrac{v_{EtOH}}{v_{Solution}}$\n",
    "\n",
    "$\\dfrac{m}{v}\\% = \\dfrac{m_{EtOH}}{v_{Solution}}$"
   ]
  },
  {
   "cell_type": "markdown",
   "metadata": {},
   "source": [
    "To get the mass of ethanol in a certain sample with a given m/v%, we would need to know the volume of the sample:\n",
    "\n",
    "$v_{sample}\\times\\dfrac{m}{v}\\%\\times\\dfrac{1}{100\\%}=m_{EtOH}$\n",
    "\n",
    "But, you are measuring sample mass, so we must find the volume first through the density:\n",
    "\n",
    "if $d=\\dfrac{m}{v}$ then $v=\\dfrac{m}{d}$\n",
    "\n",
    "And finally we get:\n",
    "$m_{EtOH}=\\dfrac{m}{d}\\times\\dfrac{m}{v}\\%\\times\\dfrac{1}{100\\%}$\n",
    "\n",
    "Which for 1g of solution would be:\n",
    "$m_{EtOH}=\\dfrac{1g}{d}\\times\\dfrac{m}{v}\\%\\times\\dfrac{1}{100\\%}$\n"
   ]
  },
  {
   "cell_type": "markdown",
   "metadata": {},
   "source": [
    "Another problem, however, is that the density tables are given in m/m%, so we need to convert your m/v% to m/m%. To find a correspondence between these different concentration units, we need to assume a temperature. Let's go with $25^\\circ C$. At this temperature, the CRC handbook gives the following density values:\n",
    "\n",
    "| m/m% | 0 | 5 | 10 | 15 | 20 | 25 |\n",
    "| -: | :-: | :-: |:-: |:-: |:-: |:-: |\n",
    "| Density (g/ml) | 0.99705 | 0.98814 | 0.98040 | 0.97331 |0.96636 | 0.95892\n",
    "\n",
    "\n",
    "\n",
    "We can convert m/m% to m/v% by assuming a $100g$ sample, then finding its volume from the density. For example, 100 g of a 15 g/ml sample would contain 15g of ethanol, and have a volume of $100g\\times\\dfrac{1ml}{0.97731g}=102.74ml$, giving a m/v% of $\\dfrac{15g}{102.74ml}\\times100\\%=14.6\\%(m/v)$\n",
    "\n",
    "Let's let the computer do the rest."
   ]
  },
  {
   "cell_type": "code",
   "execution_count": 1,
   "metadata": {},
   "outputs": [
    {
     "name": "stdout",
     "output_type": "stream",
     "text": [
      "m/v\\% \t| density\n",
      "-----------------\n",
      "0.0000\t| 0.99705\n",
      "4.9407\t| 0.98814\n",
      "9.8040\t| 0.9804\n",
      "14.5997\t| 0.97331\n",
      "19.3272\t| 0.96636\n",
      "23.9730\t| 0.95892\n"
     ]
    }
   ],
   "source": [
    "import numpy as np # Working with numpy arrays is just easier than default arrays\n",
    "m_m_percents = np.array([0, 5, 10, 15, 20, 25])\n",
    "densities = np.array([0.99705, 0.98814, 0.98040, 0.97331, 0.96636, 0.95892])\n",
    "m_v_percents = m_m_percents*densities\n",
    "print(\"m/v\\% \\t| density\")\n",
    "print(\"-----------------\")\n",
    "for mv, d in zip(m_v_percents, densities):\n",
    "    print(\"{:.4f}\\t| {}\".format(mv, d))"
   ]
  },
  {
   "cell_type": "code",
   "execution_count": 2,
   "metadata": {},
   "outputs": [
    {
     "data": {
      "image/png": "[encoded data removed]",
      "text/plain": [
       "<Figure size 432x288 with 1 Axes>"
      ]
     },
     "metadata": {
      "needs_background": "light"
     },
     "output_type": "display_data"
    }
   ],
   "source": [
    "import matplotlib.pyplot as plt\n",
    "\n",
    "plt.title(\"Densities of Ethanol/Water mixtures\")\n",
    "plt.xlabel(\"% EtOH (m/m% and m/v%)\")\n",
    "plt.ylabel(\"Density (g/ml)\")\n",
    "plt.plot(m_m_percents, densities, label=\"m/m%\")\n",
    "plt.plot(m_v_percents, densities, label=\"m/v%\")\n",
    "plt.legend()\n",
    "plt.show()"
   ]
  },
  {
   "cell_type": "markdown",
   "metadata": {},
   "source": [
    "We can see that the density is different for the two concentration units. The densities are also not linear, so a best fit line for the whole set would be poor, but a linear interpolation between the given points should be sufficient. You need density values for the round m/v% numbers below."
   ]
  },
  {
   "cell_type": "code",
   "execution_count": 3,
   "metadata": {},
   "outputs": [
    {
     "name": "stdout",
     "output_type": "stream",
     "text": [
      "m/v\\% \t| density\n",
      "-----------------\n",
      "0.0000\t| 0.99705\n",
      "5.0000\t| 0.988045623342175\n",
      "10.0000\t| 0.9801102290617539\n",
      "15.0000\t| 0.9727214430307454\n",
      "20.0000\t| 0.9652825468164794\n",
      "25.0000\t| 0.95892\n"
     ]
    }
   ],
   "source": [
    "new_m_v_percents = np.array([0, 5, 10, 15, 20, 25])  # this is the same as the m/m percents, but \n",
    "                                                     # I just wanted to give it a new name here\n",
    "new_m_v_densities = np.interp(new_m_v_percents, m_v_percents, densities)\n",
    "print(\"m/v\\% \\t| density\")\n",
    "print(\"-----------------\")\n",
    "for mv, d in zip(new_m_v_percents, new_m_v_densities):\n",
    "    print(\"{:.4f}\\t| {}\".format(mv, d))"
   ]
  },
  {
   "cell_type": "markdown",
   "metadata": {},
   "source": [
    "The value for 25% is not reliable because the function only interpolates, and doesn't extrapolate. You can exptrapolate it yourself, or just use more values from the CRC handbook. Let me know if you need it and I can do the whole range from 0% to 100%.\n",
    "\n",
    "Anyway, we can now use these to give the grams of ethanol per gram of solution for these concentrations using the formula above."
   ]
  },
  {
   "cell_type": "code",
   "execution_count": 4,
   "metadata": {},
   "outputs": [
    {
     "name": "stdout",
     "output_type": "stream",
     "text": [
      "m/v\\% \t| g(EtOH)/g(solution)\n",
      "-----------------\n",
      "5.0000\t| 0.050604950640709676\n",
      "10.0000\t| 0.10202934020567118\n",
      "15.0000\t| 0.15420653165888815\n",
      "20.0000\t| 0.2071932209482124\n"
     ]
    }
   ],
   "source": [
    "grams_EtOH = 1/new_m_v_densities*new_m_v_percents/100\n",
    "print(\"m/v\\% \\t| g(EtOH)/g(solution)\")\n",
    "print(\"-----------------\")\n",
    "for mv, g in zip(new_m_v_percents[1:-1], grams_EtOH[1:-1]):\n",
    "    print(\"{:.4f}\\t| {}\".format(mv, g))"
   ]
  },
  {
   "cell_type": "markdown",
   "metadata": {},
   "source": [
    "So, if a mouse is fed a 10% EtOH (m/v) solution, and it drinks 3.20g of solution, then the mouse ate \n",
    "\n",
    "$3.20g(solution)\\times\\dfrac{0.102g(EtOH)}{g(solution)}=0.326g(EtOH)$\n",
    "\n",
    "Note that his is a bit higher than you would predict without considering the density issues of water/ethanol mixtures, but not by much."
   ]
  },
  {
   "cell_type": "code",
   "execution_count": null,
   "metadata": {},
   "outputs": [],
   "source": []
  }
 ],
 "metadata": {
  "kernelspec": {
   "display_name": "Python 3",
   "language": "python",
   "name": "python3"
  },
  "language_info": {
   "codemirror_mode": {
    "name": "ipython",
    "version": 3
   },
   "file_extension": ".py",
   "mimetype": "text/x-python",
   "name": "python",
   "nbconvert_exporter": "python",
   "pygments_lexer": "ipython3",
   "version": "3.8.6"
  }
 },
 "nbformat": 4,
 "nbformat_minor": 4
}
