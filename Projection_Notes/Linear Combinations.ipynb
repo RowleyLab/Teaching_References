{
 "cells": [
  {
   "cell_type": "markdown",
   "metadata": {},
   "source": [
    "Assignment for Hao\n",
    "==================\n",
    "\n",
    "I will give you a basis set of functions and a set of coefficients. You should use them to generate figures of linear combinations of these functions"
   ]
  },
  {
   "cell_type": "code",
   "execution_count": 1,
   "metadata": {},
   "outputs": [],
   "source": [
    "import numpy as np\n",
    "import matplotlib.pyplot as plt\n",
    "%matplotlib inline"
   ]
  },
  {
   "cell_type": "markdown",
   "metadata": {},
   "source": [
    "Here are your 2-dimensional basis functions\n",
    "---------------------------------------------------------------"
   ]
  },
  {
   "cell_type": "code",
   "execution_count": 3,
   "metadata": {},
   "outputs": [],
   "source": [
    "def f1(x,y):\n",
    "    return np.cos(x) + np.cos(y)\n",
    "def f2(x,y):\n",
    "    return np.exp(-x**2) + np.abs(y)\n",
    "def f3(x,y):\n",
    "    return np.sin(x)*np.sin(y)\n",
    "def f4(x,y):\n",
    "    return np.cos(x)*np.cos(y)\n",
    "def f5(x,y):\n",
    "    return np.cos(x)**2 + np.sin(y)**2\n",
    "basisSet = [f1, f2, f3, f4, f5]"
   ]
  },
  {
   "cell_type": "markdown",
   "metadata": {},
   "source": [
    "Here are your coefficients for a number of different combinations\n",
    "-----------------------------------------------------------------"
   ]
  },
  {
   "cell_type": "code",
   "execution_count": 4,
   "metadata": {},
   "outputs": [],
   "source": [
    "c1 = [0.1, 0.4, -0.3, 0.2, 0.0]\n",
    "c2 = [-0.3, 0.2, 0.3, 0.0, -0.2]\n",
    "c3 = [0.1, 0.3, -0.2, -0.4, -0.1]"
   ]
  },
  {
   "cell_type": "markdown",
   "metadata": {},
   "source": [
    "Now plot them over a range of X and Y from -5 to +5\n",
    "----------"
   ]
  },
  {
   "cell_type": "code",
   "execution_count": 16,
   "metadata": {},
   "outputs": [
    {
     "name": "stdout",
     "output_type": "stream",
     "text": [
      "[[-5.        -5.        -5.        ... -5.        -5.        -5.       ]\n",
      " [-4.8989899 -4.8989899 -4.8989899 ... -4.8989899 -4.8989899 -4.8989899]\n",
      " [-4.7979798 -4.7979798 -4.7979798 ... -4.7979798 -4.7979798 -4.7979798]\n",
      " ...\n",
      " [ 4.7979798  4.7979798  4.7979798 ...  4.7979798  4.7979798  4.7979798]\n",
      " [ 4.8989899  4.8989899  4.8989899 ...  4.8989899  4.8989899  4.8989899]\n",
      " [ 5.         5.         5.        ...  5.         5.         5.       ]]\n",
      "[[-5.        -4.8989899 -4.7979798 ...  4.7979798  4.8989899  5.       ]\n",
      " [-5.        -4.8989899 -4.7979798 ...  4.7979798  4.8989899  5.       ]\n",
      " [-5.        -4.8989899 -4.7979798 ...  4.7979798  4.8989899  5.       ]\n",
      " ...\n",
      " [-5.        -4.8989899 -4.7979798 ...  4.7979798  4.8989899  5.       ]\n",
      " [-5.        -4.8989899 -4.7979798 ...  4.7979798  4.8989899  5.       ]\n",
      " [-5.        -4.8989899 -4.7979798 ...  4.7979798  4.8989899  5.       ]]\n",
      "[[0.56732437 0.46918208 0.36914854 ... 0.36914854 0.46918208 0.56732437]\n",
      " [0.46918208 0.3710398  0.27100625 ... 0.27100625 0.3710398  0.46918208]\n",
      " [0.36914854 0.27100625 0.17097271 ... 0.17097271 0.27100625 0.36914854]\n",
      " ...\n",
      " [0.36914854 0.27100625 0.17097271 ... 0.17097271 0.27100625 0.36914854]\n",
      " [0.46918208 0.3710398  0.27100625 ... 0.27100625 0.3710398  0.46918208]\n",
      " [0.56732437 0.46918208 0.36914854 ... 0.36914854 0.46918208 0.56732437]]\n"
     ]
    }
   ],
   "source": [
    "xvals, yvals = np.mgrid[-5.0:5.0:100j, -5.0:5.0:100j]\n",
    "print(xvals)\n",
    "print(yvals)\n",
    "print(f1(xvals,yvals))"
   ]
  },
  {
   "cell_type": "code",
   "execution_count": 17,
   "metadata": {},
   "outputs": [
    {
     "data": {
      "text/plain": [
       "<matplotlib.contour.QuadContourSet at 0x7f15bc0daa90>"
      ]
     },
     "execution_count": 17,
     "metadata": {},
     "output_type": "execute_result"
    },
    {
     "data": {
      "image/png": "[encoded data removed]",
      "text/plain": [
       "<Figure size 432x288 with 1 Axes>"
      ]
     },
     "metadata": {
      "needs_background": "light"
     },
     "output_type": "display_data"
    }
   ],
   "source": [
    "plt.contourf(xvals,yvals,f1(xvals,yvals))"
   ]
  },
  {
   "cell_type": "code",
   "execution_count": null,
   "metadata": {},
   "outputs": [],
   "source": []
  }
 ],
 "metadata": {
  "kernelspec": {
   "display_name": "Python 3",
   "language": "python",
   "name": "python3"
  },
  "language_info": {
   "codemirror_mode": {
    "name": "ipython",
    "version": 3
   },
   "file_extension": ".py",
   "mimetype": "text/x-python",
   "name": "python",
   "nbconvert_exporter": "python",
   "pygments_lexer": "ipython3",
   "version": "3.7.4"
  }
 },
 "nbformat": 4,
 "nbformat_minor": 2
}
